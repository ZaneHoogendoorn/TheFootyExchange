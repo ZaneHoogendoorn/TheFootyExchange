{
 "cells": [
  {
   "cell_type": "code",
   "execution_count": 1,
   "metadata": {},
   "outputs": [],
   "source": [
    "import pandas as pd\n",
    "import numpy as np\n",
    "import matplotlib.pyplot as plt\n",
    "import seaborn as sns\n",
    "import warnings\n",
    "%matplotlib inline\n",
    "import re\n",
    "import time\n",
    "\n",
    "from urllib.request import urlopen\n",
    "from bs4 import BeautifulSoup"
   ]
  },
  {
   "cell_type": "code",
   "execution_count": 2,
   "metadata": {},
   "outputs": [],
   "source": [
    "from Player_Value_Function import Player_Value\n",
    "from Spectrums import Premiums, Basements\n",
    "from Assistance import Very_Underpriced, Underpriced, Unknowns\n",
    "from Tables import Display_Players_and_Prices, Display_Names_and_Link, Display_Market\n",
    "from Changers import Last_Round_Risers, Last_Round_Fallers, Last_5_Risers, Last_5_Fallers, Last_10_Risers, Last_10_Fallers\n",
    "from Scraper import Update_Players_and_Prices, Update_Names_and_Link\n",
    "from Market_Value import Update_Market_Value\n",
    "from Shortlist import Shortlist\n",
    "from Portfolio import Portfolio"
   ]
  },
  {
   "cell_type": "code",
   "execution_count": 3,
   "metadata": {},
   "outputs": [],
   "source": [
    "# MENU\n",
    "\n",
    "# Player_Value(): Shows the Data for Entered Player\n",
    "\n",
    "# Premiums(): Shows the 50 Most Expensive Players in the League\n",
    "# Basements(): Shows the 50 Cheapest Players in the League\n",
    "\n",
    "# Shortlist(): Opens Shortlist function\n",
    "# Portfolio(): Opens Portfolio function\n",
    "\n",
    "# Very_Underpriced(): Displays all players who are considered 'Very_Underpriced'\n",
    "# Underpriced(): Displays all players who are considered 'Underpriced'\n",
    "# Unknowns(): Players who have not played enough games to be evaluated\n",
    "\n",
    "# Last_Round_Risers(): Players with the biggest % increase in the last round\n",
    "# Last_Round_Fallers(): Players with the biggest % decrease in the last round\n",
    "# Last_5_Risers(): Players with the biggest % increase in the last 5 rounds\n",
    "# Last_5_Fallers(): Players with the biggest % decrease in the last 5 rounds\n",
    "# Last_10_Risers(): Players with the biggest % increase in the last 10 rounds\n",
    "# Last_10_Fallers(): Players with the biggest % decrease in the last 10 rounds\n",
    "\n",
    "# Display_Players_and_Prices(): Displays Players_and_Prices table\n",
    "# Display_Names_and_Link(): Displays Names_and_Link table\n",
    "# Display_Market(): Displays market graph and value\n",
    "\n",
    "# Update_Players_and_Prices(): Overrides csv containing all player price data\n",
    "# Update_Names_and_Link(): Overrides csv containing all names and link data\n",
    "# Update_Market_Value(): Overrides csv containing market value data"
   ]
  }
 ],
 "metadata": {
  "kernelspec": {
   "display_name": "Python 3",
   "language": "python",
   "name": "python3"
  },
  "language_info": {
   "codemirror_mode": {
    "name": "ipython",
    "version": 3
   },
   "file_extension": ".py",
   "mimetype": "text/x-python",
   "name": "python",
   "nbconvert_exporter": "python",
   "pygments_lexer": "ipython3",
   "version": "3.8.3"
  }
 },
 "nbformat": 4,
 "nbformat_minor": 4
}
